{
 "cells": [
  {
   "cell_type": "code",
   "execution_count": 1,
   "id": "graphic-differential",
   "metadata": {},
   "outputs": [
    {
     "name": "stdout",
     "output_type": "stream",
     "text": [
      "(2515, 7)\n",
      "<class 'pandas.core.frame.DataFrame'>\n",
      "RangeIndex: 2515 entries, 0 to 2514\n",
      "Data columns (total 7 columns):\n",
      " #   Column     Non-Null Count  Dtype  \n",
      "---  ------     --------------  -----  \n",
      " 0   Date       2515 non-null   object \n",
      " 1   Open       2514 non-null   float64\n",
      " 2   High       2514 non-null   float64\n",
      " 3   Low        2514 non-null   float64\n",
      " 4   Close      2514 non-null   float64\n",
      " 5   Adj Close  2514 non-null   float64\n",
      " 6   Volume     2514 non-null   float64\n",
      "dtypes: float64(6), object(1)\n",
      "memory usage: 137.7+ KB\n",
      "None\n"
     ]
    },
    {
     "data": {
      "text/html": [
       "<div>\n",
       "<style scoped>\n",
       "    .dataframe tbody tr th:only-of-type {\n",
       "        vertical-align: middle;\n",
       "    }\n",
       "\n",
       "    .dataframe tbody tr th {\n",
       "        vertical-align: top;\n",
       "    }\n",
       "\n",
       "    .dataframe thead th {\n",
       "        text-align: right;\n",
       "    }\n",
       "</style>\n",
       "<table border=\"1\" class=\"dataframe\">\n",
       "  <thead>\n",
       "    <tr style=\"text-align: right;\">\n",
       "      <th></th>\n",
       "      <th>Date</th>\n",
       "      <th>Open</th>\n",
       "      <th>High</th>\n",
       "      <th>Low</th>\n",
       "      <th>Close</th>\n",
       "      <th>Adj Close</th>\n",
       "      <th>Volume</th>\n",
       "    </tr>\n",
       "  </thead>\n",
       "  <tbody>\n",
       "    <tr>\n",
       "      <th>2510</th>\n",
       "      <td>2018-12-21</td>\n",
       "      <td>3678.120117</td>\n",
       "      <td>3678.550049</td>\n",
       "      <td>3526.399902</td>\n",
       "      <td>3539.260010</td>\n",
       "      <td>3539.260010</td>\n",
       "      <td>0.0</td>\n",
       "    </tr>\n",
       "    <tr>\n",
       "      <th>2511</th>\n",
       "      <td>2018-12-24</td>\n",
       "      <td>3510.389893</td>\n",
       "      <td>3557.780029</td>\n",
       "      <td>3456.469971</td>\n",
       "      <td>3457.919922</td>\n",
       "      <td>3457.919922</td>\n",
       "      <td>0.0</td>\n",
       "    </tr>\n",
       "    <tr>\n",
       "      <th>2512</th>\n",
       "      <td>2018-12-26</td>\n",
       "      <td>3494.810059</td>\n",
       "      <td>3649.389893</td>\n",
       "      <td>3451.909912</td>\n",
       "      <td>3649.389893</td>\n",
       "      <td>3649.389893</td>\n",
       "      <td>0.0</td>\n",
       "    </tr>\n",
       "    <tr>\n",
       "      <th>2513</th>\n",
       "      <td>2018-12-27</td>\n",
       "      <td>3591.709961</td>\n",
       "      <td>3685.810059</td>\n",
       "      <td>3551.090088</td>\n",
       "      <td>3684.270020</td>\n",
       "      <td>3684.270020</td>\n",
       "      <td>0.0</td>\n",
       "    </tr>\n",
       "    <tr>\n",
       "      <th>2514</th>\n",
       "      <td>2018-12-28</td>\n",
       "      <td>3700.040039</td>\n",
       "      <td>3744.239990</td>\n",
       "      <td>3651.139893</td>\n",
       "      <td>3683.939941</td>\n",
       "      <td>3683.939941</td>\n",
       "      <td>0.0</td>\n",
       "    </tr>\n",
       "  </tbody>\n",
       "</table>\n",
       "</div>"
      ],
      "text/plain": [
       "            Date         Open         High          Low        Close  \\\n",
       "2510  2018-12-21  3678.120117  3678.550049  3526.399902  3539.260010   \n",
       "2511  2018-12-24  3510.389893  3557.780029  3456.469971  3457.919922   \n",
       "2512  2018-12-26  3494.810059  3649.389893  3451.909912  3649.389893   \n",
       "2513  2018-12-27  3591.709961  3685.810059  3551.090088  3684.270020   \n",
       "2514  2018-12-28  3700.040039  3744.239990  3651.139893  3683.939941   \n",
       "\n",
       "        Adj Close  Volume  \n",
       "2510  3539.260010     0.0  \n",
       "2511  3457.919922     0.0  \n",
       "2512  3649.389893     0.0  \n",
       "2513  3684.270020     0.0  \n",
       "2514  3683.939941     0.0  "
      ]
     },
     "execution_count": 1,
     "metadata": {},
     "output_type": "execute_result"
    }
   ],
   "source": [
    "import pandas as pd\n",
    "import numpy as np\n",
    "import sklearn\n",
    "from sklearn.model_selection import train_test_split\n",
    "# Reading the data\n",
    "df = pd.read_csv(\"Resources/NDXT0918.csv\")\n",
    "print(df.shape)\n",
    "print(df.info())\n",
    "df.tail(5)"
   ]
  },
  {
   "cell_type": "code",
   "execution_count": 2,
   "id": "statistical-brown",
   "metadata": {},
   "outputs": [
    {
     "name": "stdout",
     "output_type": "stream",
     "text": [
      "<class 'pandas.core.frame.DataFrame'>\n",
      "RangeIndex: 2515 entries, 0 to 2514\n",
      "Data columns (total 16 columns):\n",
      " #   Column          Non-Null Count  Dtype  \n",
      "---  ------          --------------  -----  \n",
      " 0   Date            2515 non-null   object \n",
      " 1   Open            2514 non-null   float64\n",
      " 2   High            2514 non-null   float64\n",
      " 3   Low             2514 non-null   float64\n",
      " 4   Close           2514 non-null   float64\n",
      " 5   Adj Close       2514 non-null   float64\n",
      " 6   Volume          2514 non-null   float64\n",
      " 7   year            2515 non-null   int64  \n",
      " 8   month           2515 non-null   int64  \n",
      " 9   day             2515 non-null   int64  \n",
      " 10  dayofyear       2515 non-null   int64  \n",
      " 11  weekofyear      2515 non-null   int64  \n",
      " 12  weekday         2515 non-null   int64  \n",
      " 13  quarter         2515 non-null   int64  \n",
      " 14  is_month_start  2515 non-null   bool   \n",
      " 15  is_month_end    2515 non-null   bool   \n",
      "dtypes: bool(2), float64(6), int64(7), object(1)\n",
      "memory usage: 280.1+ KB\n",
      "None\n"
     ]
    },
    {
     "name": "stderr",
     "output_type": "stream",
     "text": [
      "C:\\Users\\rvara\\anaconda3\\envs\\PythonAdv\\lib\\site-packages\\ipykernel_launcher.py:8: FutureWarning: weekofyear and week have been deprecated, please use DatetimeIndex.isocalendar().week instead, which returns a Series.  To exactly reproduce the behavior of week and weekofyear and return an Index, you may call pd.Int64Index(idx.isocalendar().week)\n",
      "  \n"
     ]
    }
   ],
   "source": [
    "import datetime\n",
    "df['Date'] = pd.to_datetime(df['Date'])\n",
    "df['Date'] = df['Date'].dt.strftime('%d.%m.%Y')\n",
    "df['year'] = pd.DatetimeIndex(df['Date']).year\n",
    "df['month'] = pd.DatetimeIndex(df['Date']).month\n",
    "df['day'] = pd.DatetimeIndex(df['Date']).day\n",
    "df['dayofyear'] = pd.DatetimeIndex(df['Date']).dayofyear\n",
    "df['weekofyear'] = pd.DatetimeIndex(df['Date']).weekofyear\n",
    "df['weekday'] = pd.DatetimeIndex(df['Date']).weekday\n",
    "df['quarter'] = pd.DatetimeIndex(df['Date']).quarter\n",
    "df['is_month_start'] = pd.DatetimeIndex(df['Date']).is_month_start\n",
    "df['is_month_end'] = pd.DatetimeIndex(df['Date']).is_month_end\n",
    "print(df.info())"
   ]
  },
  {
   "cell_type": "code",
   "execution_count": 3,
   "id": "enhanced-genesis",
   "metadata": {},
   "outputs": [],
   "source": [
    "df = df.drop(['Date'], axis = 1) "
   ]
  },
  {
   "cell_type": "code",
   "execution_count": 4,
   "id": "mobile-franchise",
   "metadata": {},
   "outputs": [
    {
     "name": "stdout",
     "output_type": "stream",
     "text": [
      "<class 'pandas.core.frame.DataFrame'>\n",
      "RangeIndex: 2515 entries, 0 to 2514\n",
      "Data columns (total 40 columns):\n",
      " #   Column        Non-Null Count  Dtype  \n",
      "---  ------        --------------  -----  \n",
      " 0   Open          2514 non-null   float64\n",
      " 1   High          2514 non-null   float64\n",
      " 2   Low           2514 non-null   float64\n",
      " 3   Close         2514 non-null   float64\n",
      " 4   Adj Close     2514 non-null   float64\n",
      " 5   Volume        2514 non-null   float64\n",
      " 6   day           2515 non-null   int64  \n",
      " 7   dayofyear     2515 non-null   int64  \n",
      " 8   weekofyear    2515 non-null   int64  \n",
      " 9   year_2010     2515 non-null   uint8  \n",
      " 10  year_2011     2515 non-null   uint8  \n",
      " 11  year_2012     2515 non-null   uint8  \n",
      " 12  year_2013     2515 non-null   uint8  \n",
      " 13  year_2014     2515 non-null   uint8  \n",
      " 14  year_2015     2515 non-null   uint8  \n",
      " 15  year_2016     2515 non-null   uint8  \n",
      " 16  year_2017     2515 non-null   uint8  \n",
      " 17  year_2018     2515 non-null   uint8  \n",
      " 18  month_2       2515 non-null   uint8  \n",
      " 19  month_3       2515 non-null   uint8  \n",
      " 20  month_4       2515 non-null   uint8  \n",
      " 21  month_5       2515 non-null   uint8  \n",
      " 22  month_6       2515 non-null   uint8  \n",
      " 23  month_7       2515 non-null   uint8  \n",
      " 24  month_8       2515 non-null   uint8  \n",
      " 25  month_9       2515 non-null   uint8  \n",
      " 26  month_10      2515 non-null   uint8  \n",
      " 27  month_11      2515 non-null   uint8  \n",
      " 28  month_12      2515 non-null   uint8  \n",
      " 29  wday_1        2515 non-null   uint8  \n",
      " 30  wday_2        2515 non-null   uint8  \n",
      " 31  wday_3        2515 non-null   uint8  \n",
      " 32  wday_4        2515 non-null   uint8  \n",
      " 33  wday_5        2515 non-null   uint8  \n",
      " 34  wday_6        2515 non-null   uint8  \n",
      " 35  qrtr_2        2515 non-null   uint8  \n",
      " 36  qrtr_3        2515 non-null   uint8  \n",
      " 37  qrtr_4        2515 non-null   uint8  \n",
      " 38  m_start_True  2515 non-null   uint8  \n",
      " 39  m_end_True    2515 non-null   uint8  \n",
      "dtypes: float64(6), int64(3), uint8(31)\n",
      "memory usage: 253.1 KB\n"
     ]
    }
   ],
   "source": [
    "df = pd.get_dummies(df, columns=['year'], drop_first=True, prefix='year')\n",
    "\n",
    "df = pd.get_dummies(df, columns=['month'], drop_first=True, prefix='month')\n",
    "\n",
    "df = pd.get_dummies(df, columns=['weekday'], drop_first=True, prefix='wday')\n",
    "df = pd.get_dummies(df, columns=['quarter'], drop_first=True, prefix='qrtr')\n",
    "\n",
    "df = pd.get_dummies(df, columns=['is_month_start'], drop_first=True, prefix='m_start')\n",
    "\n",
    "df = pd.get_dummies(df, columns=['is_month_end'], drop_first=True, prefix='m_end')\n",
    "\n",
    "df.info()"
   ]
  },
  {
   "cell_type": "code",
   "execution_count": 5,
   "id": "warming-breakdown",
   "metadata": {},
   "outputs": [
    {
     "name": "stdout",
     "output_type": "stream",
     "text": [
      "(8, 40)\n",
      "(496, 40)\n"
     ]
    }
   ],
   "source": [
    "train = df.loc['2009-01-02':'2017-12-31']\n",
    "test = df.loc['2018-01-02':]\n",
    "\n",
    "print(train.shape)\n",
    "print(test.shape)"
   ]
  },
  {
   "cell_type": "code",
   "execution_count": 6,
   "id": "placed-batch",
   "metadata": {},
   "outputs": [],
   "source": [
    "# train = train.drop(['Close'], axis = 1) \n",
    "# test = test.drop(['Close'], axis = 1) "
   ]
  },
  {
   "cell_type": "code",
   "execution_count": 7,
   "id": "aware-bridge",
   "metadata": {
    "scrolled": true
   },
   "outputs": [
    {
     "name": "stdout",
     "output_type": "stream",
     "text": [
      "(8, 39)\n",
      "(8, 1)\n"
     ]
    }
   ],
   "source": [
    "target_column_train = ['Close'] \n",
    "predictors_train = list(set(list(train.columns))-set(target_column_train))\n",
    "\n",
    "X_train = train[predictors_train].values\n",
    "y_train = train[target_column_train].values\n",
    "\n",
    "print(X_train.shape)\n",
    "print(y_train.shape)"
   ]
  },
  {
   "cell_type": "code",
   "execution_count": 15,
   "id": "lasting-dover",
   "metadata": {},
   "outputs": [
    {
     "name": "stdout",
     "output_type": "stream",
     "text": [
      "(496, 39)\n",
      "(496, 1)\n"
     ]
    }
   ],
   "source": [
    "target_column_test = ['Close'] \n",
    "predictors_test = list(set(list(test.columns))-set(target_column_test))\n",
    "\n",
    "X_test = test[predictors_test].values\n",
    "y_test = test[target_column_test].values\n",
    "\n",
    "print(X_test.shape)\n",
    "print(y_test.shape)"
   ]
  },
  {
   "cell_type": "code",
   "execution_count": 16,
   "id": "paperback-inspection",
   "metadata": {},
   "outputs": [],
   "source": [
    "# from sklearn.model_selection import train_test_split\n",
    "# X_train, X_test, y_train, y_test = train_test_split(X, y, random_state=42)"
   ]
  },
  {
   "cell_type": "code",
   "execution_count": 17,
   "id": "willing-necessity",
   "metadata": {},
   "outputs": [],
   "source": [
    "import sklearn\n",
    "from sklearn import model_selection\n",
    "from sklearn.tree import DecisionTreeRegressor\n",
    "from sklearn.ensemble import RandomForestRegressor\n",
    "from sklearn.metrics import r2_score\n",
    "from sklearn.metrics import mean_squared_error\n",
    "from math import sqrt"
   ]
  },
  {
   "cell_type": "code",
   "execution_count": 18,
   "id": "herbal-wilderness",
   "metadata": {},
   "outputs": [
    {
     "data": {
      "text/plain": [
       "DecisionTreeRegressor(max_depth=8, min_samples_leaf=0.13, random_state=3)"
      ]
     },
     "execution_count": 18,
     "metadata": {},
     "output_type": "execute_result"
    }
   ],
   "source": [
    "dtree = DecisionTreeRegressor(max_depth=8, min_samples_leaf=0.13, random_state=3)\n",
    "dtree.fit(X_train, y_train)"
   ]
  },
  {
   "cell_type": "code",
   "execution_count": 19,
   "id": "extensive-aquatic",
   "metadata": {},
   "outputs": [
    {
     "name": "stdout",
     "output_type": "stream",
     "text": [
      "6.687287068281747\n",
      "0.8984830965091583\n"
     ]
    }
   ],
   "source": [
    "# Code lines 1 to 3\n",
    "pred_train_tree= dtree.predict(X_train)\n",
    "print(np.sqrt(mean_squared_error(y_train,pred_train_tree)))\n",
    "print(r2_score(y_train, pred_train_tree))\n",
    "\n",
    "# Code lines 4 to 6\n",
    "# pred_test_tree= dtree.predict(X_test)\n",
    "# print(np.sqrt(mean_squared_error(y_test,pred_test_tree))) \n",
    "# print(r2_score(y_test, pred_test_tree))"
   ]
  },
  {
   "cell_type": "code",
   "execution_count": 20,
   "id": "noticed-satin",
   "metadata": {},
   "outputs": [
    {
     "name": "stdout",
     "output_type": "stream",
     "text": [
      "1000.7700531156229\n",
      "-4.905338477930028\n"
     ]
    }
   ],
   "source": [
    "pred_test_tree= dtree.predict(X_test)\n",
    "print(np.sqrt(mean_squared_error(y_test,pred_test_tree))) \n",
    "print(r2_score(y_test, pred_test_tree))"
   ]
  },
  {
   "cell_type": "code",
   "execution_count": 21,
   "id": "generous-formation",
   "metadata": {},
   "outputs": [],
   "source": [
    "# Code Lines 1 to 4: Fit the regression tree 'dtree1' and 'dtree2' \n",
    "dtree1 = DecisionTreeRegressor(max_depth=2)\n",
    "dtree2 = DecisionTreeRegressor(max_depth=5)\n",
    "dtree1.fit(X_train, y_train)\n",
    "dtree2.fit(X_train, y_train)\n",
    "\n",
    "# Code Lines 5 to 6: Predict on training data\n",
    "tr1 = dtree1.predict(X_train)\n",
    "tr2 = dtree2.predict(X_train) \n",
    "\n",
    "#Code Lines 7 to 8: Predict on testing data\n",
    "y1 = dtree1.predict(X_test)\n",
    "y2 = dtree2.predict(X_test)"
   ]
  },
  {
   "cell_type": "code",
   "execution_count": 22,
   "id": "suited-pontiac",
   "metadata": {},
   "outputs": [
    {
     "name": "stdout",
     "output_type": "stream",
     "text": [
      "4.322285309042462\n",
      "0.9575902912167306\n",
      "1002.9594293190961\n",
      "-4.931204859197343\n"
     ]
    }
   ],
   "source": [
    "print(np.sqrt(mean_squared_error(y_train,tr1))) \n",
    "print(r2_score(y_train, tr1))\n",
    "\n",
    "# Print RMSE and R-squared value for regression tree 'dtree1' on testing data\n",
    "print(np.sqrt(mean_squared_error(y_test,y1))) \n",
    "print(r2_score(y_test, y1))"
   ]
  },
  {
   "cell_type": "code",
   "execution_count": 23,
   "id": "small-mineral",
   "metadata": {},
   "outputs": [
    {
     "name": "stdout",
     "output_type": "stream",
     "text": [
      "0.0\n",
      "1.0\n",
      "996.2179180003661\n",
      "-4.85173823153694\n"
     ]
    }
   ],
   "source": [
    "# Print RMSE and R-squared value for regression tree 'dtree2' on training data\n",
    "print(np.sqrt(mean_squared_error(y_train,tr2))) \n",
    "print(r2_score(y_train, tr2))\n",
    "\n",
    "# Print RMSE and R-squared value for regression tree 'dtree2' on testing data\n",
    "print(np.sqrt(mean_squared_error(y_test,y2))) \n",
    "print(r2_score(y_test, y2))"
   ]
  },
  {
   "cell_type": "code",
   "execution_count": 24,
   "id": "institutional-guatemala",
   "metadata": {},
   "outputs": [
    {
     "name": "stderr",
     "output_type": "stream",
     "text": [
      "C:\\Users\\rvara\\anaconda3\\envs\\PythonAdv\\lib\\site-packages\\ipykernel_launcher.py:3: DataConversionWarning: A column-vector y was passed when a 1d array was expected. Please change the shape of y to (n_samples,), for example using ravel().\n",
      "  This is separate from the ipykernel package so we can avoid doing imports until\n"
     ]
    },
    {
     "name": "stdout",
     "output_type": "stream",
     "text": [
      "6.238845110333615\n",
      "0.9116418048615149\n",
      "1008.2217180142502\n",
      "-4.993607368343928\n"
     ]
    }
   ],
   "source": [
    "#RF model\n",
    "model_rf = RandomForestRegressor(n_estimators=5000, oob_score=True, random_state=100)\n",
    "model_rf.fit(X_train, y_train) \n",
    "pred_train_rf= model_rf.predict(X_train)\n",
    "print(np.sqrt(mean_squared_error(y_train,pred_train_rf)))\n",
    "print(r2_score(y_train, pred_train_rf))\n",
    "\n",
    "pred_test_rf = model_rf.predict(X_test)\n",
    "print(np.sqrt(mean_squared_error(y_test,pred_test_rf)))\n",
    "print(r2_score(y_test, pred_test_rf))"
   ]
  },
  {
   "cell_type": "code",
   "execution_count": null,
   "id": "finnish-arrest",
   "metadata": {},
   "outputs": [],
   "source": []
  }
 ],
 "metadata": {
  "kernelspec": {
   "display_name": "Python [conda env:PythonAdv] *",
   "language": "python",
   "name": "conda-env-PythonAdv-py"
  },
  "language_info": {
   "codemirror_mode": {
    "name": "ipython",
    "version": 3
   },
   "file_extension": ".py",
   "mimetype": "text/x-python",
   "name": "python",
   "nbconvert_exporter": "python",
   "pygments_lexer": "ipython3",
   "version": "3.6.12"
  }
 },
 "nbformat": 4,
 "nbformat_minor": 5
}
