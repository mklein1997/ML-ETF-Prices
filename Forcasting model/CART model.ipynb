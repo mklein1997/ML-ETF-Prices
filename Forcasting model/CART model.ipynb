{
 "cells": [
  {
   "cell_type": "code",
   "execution_count": 1,
   "id": "graphic-differential",
   "metadata": {},
   "outputs": [
    {
     "name": "stdout",
     "output_type": "stream",
     "text": [
      "(3055, 8)\n",
      "<class 'pandas.core.frame.DataFrame'>\n",
      "RangeIndex: 3055 entries, 0 to 3054\n",
      "Data columns (total 8 columns):\n",
      " #   Column     Non-Null Count  Dtype  \n",
      "---  ------     --------------  -----  \n",
      " 0   Date       2768 non-null   object \n",
      " 1   Open       2767 non-null   float64\n",
      " 2   High       2767 non-null   float64\n",
      " 3   Low        2767 non-null   float64\n",
      " 4   Close      2767 non-null   float64\n",
      " 5   Adj Close  2767 non-null   float64\n",
      " 6   Volume     2767 non-null   float64\n",
      " 7   Class      2768 non-null   object \n",
      "dtypes: float64(6), object(2)\n",
      "memory usage: 191.1+ KB\n",
      "None\n"
     ]
    },
    {
     "data": {
      "text/html": [
       "<div>\n",
       "<style scoped>\n",
       "    .dataframe tbody tr th:only-of-type {\n",
       "        vertical-align: middle;\n",
       "    }\n",
       "\n",
       "    .dataframe tbody tr th {\n",
       "        vertical-align: top;\n",
       "    }\n",
       "\n",
       "    .dataframe thead th {\n",
       "        text-align: right;\n",
       "    }\n",
       "</style>\n",
       "<table border=\"1\" class=\"dataframe\">\n",
       "  <thead>\n",
       "    <tr style=\"text-align: right;\">\n",
       "      <th></th>\n",
       "      <th>Date</th>\n",
       "      <th>Open</th>\n",
       "      <th>High</th>\n",
       "      <th>Low</th>\n",
       "      <th>Close</th>\n",
       "      <th>Adj Close</th>\n",
       "      <th>Volume</th>\n",
       "      <th>Class</th>\n",
       "    </tr>\n",
       "  </thead>\n",
       "  <tbody>\n",
       "    <tr>\n",
       "      <th>0</th>\n",
       "      <td>1/2/2009</td>\n",
       "      <td>633.739990</td>\n",
       "      <td>665.849976</td>\n",
       "      <td>631.969971</td>\n",
       "      <td>664.190002</td>\n",
       "      <td>664.190002</td>\n",
       "      <td>0.0</td>\n",
       "      <td>Train</td>\n",
       "    </tr>\n",
       "    <tr>\n",
       "      <th>1</th>\n",
       "      <td>1/5/2009</td>\n",
       "      <td>658.140015</td>\n",
       "      <td>672.940002</td>\n",
       "      <td>654.599976</td>\n",
       "      <td>665.950012</td>\n",
       "      <td>665.950012</td>\n",
       "      <td>0.0</td>\n",
       "      <td>Train</td>\n",
       "    </tr>\n",
       "    <tr>\n",
       "      <th>2</th>\n",
       "      <td>1/6/2009</td>\n",
       "      <td>671.210022</td>\n",
       "      <td>694.500000</td>\n",
       "      <td>670.080017</td>\n",
       "      <td>687.130005</td>\n",
       "      <td>687.130005</td>\n",
       "      <td>0.0</td>\n",
       "      <td>Train</td>\n",
       "    </tr>\n",
       "    <tr>\n",
       "      <th>3</th>\n",
       "      <td>1/7/2009</td>\n",
       "      <td>670.919983</td>\n",
       "      <td>673.989990</td>\n",
       "      <td>657.270020</td>\n",
       "      <td>662.739990</td>\n",
       "      <td>662.739990</td>\n",
       "      <td>0.0</td>\n",
       "      <td>Train</td>\n",
       "    </tr>\n",
       "    <tr>\n",
       "      <th>4</th>\n",
       "      <td>1/8/2009</td>\n",
       "      <td>657.210022</td>\n",
       "      <td>665.369995</td>\n",
       "      <td>648.539978</td>\n",
       "      <td>665.099976</td>\n",
       "      <td>665.099976</td>\n",
       "      <td>0.0</td>\n",
       "      <td>Train</td>\n",
       "    </tr>\n",
       "  </tbody>\n",
       "</table>\n",
       "</div>"
      ],
      "text/plain": [
       "       Date        Open        High         Low       Close   Adj Close  \\\n",
       "0  1/2/2009  633.739990  665.849976  631.969971  664.190002  664.190002   \n",
       "1  1/5/2009  658.140015  672.940002  654.599976  665.950012  665.950012   \n",
       "2  1/6/2009  671.210022  694.500000  670.080017  687.130005  687.130005   \n",
       "3  1/7/2009  670.919983  673.989990  657.270020  662.739990  662.739990   \n",
       "4  1/8/2009  657.210022  665.369995  648.539978  665.099976  665.099976   \n",
       "\n",
       "   Volume  Class  \n",
       "0     0.0  Train  \n",
       "1     0.0  Train  \n",
       "2     0.0  Train  \n",
       "3     0.0  Train  \n",
       "4     0.0  Train  "
      ]
     },
     "execution_count": 1,
     "metadata": {},
     "output_type": "execute_result"
    }
   ],
   "source": [
    "import pandas as pd\n",
    "import numpy as np\n",
    "import sklearn\n",
    "from sklearn.model_selection import train_test_split\n",
    "# Reading the data\n",
    "df = pd.read_csv(\"Resources/NDXT0919.csv\")\n",
    "print(df.shape)\n",
    "print(df.info())\n",
    "df.head(5)"
   ]
  },
  {
   "cell_type": "code",
   "execution_count": 2,
   "id": "allied-making",
   "metadata": {},
   "outputs": [],
   "source": [
    "df.dropna(inplace=True)"
   ]
  },
  {
   "cell_type": "code",
   "execution_count": 3,
   "id": "statistical-brown",
   "metadata": {},
   "outputs": [
    {
     "name": "stdout",
     "output_type": "stream",
     "text": [
      "<class 'pandas.core.frame.DataFrame'>\n",
      "Int64Index: 2767 entries, 0 to 2767\n",
      "Data columns (total 17 columns):\n",
      " #   Column          Non-Null Count  Dtype  \n",
      "---  ------          --------------  -----  \n",
      " 0   Date            2767 non-null   object \n",
      " 1   Open            2767 non-null   float64\n",
      " 2   High            2767 non-null   float64\n",
      " 3   Low             2767 non-null   float64\n",
      " 4   Close           2767 non-null   float64\n",
      " 5   Adj Close       2767 non-null   float64\n",
      " 6   Volume          2767 non-null   float64\n",
      " 7   Class           2767 non-null   object \n",
      " 8   year            2767 non-null   int64  \n",
      " 9   month           2767 non-null   int64  \n",
      " 10  day             2767 non-null   int64  \n",
      " 11  dayofyear       2767 non-null   int64  \n",
      " 12  weekofyear      2767 non-null   int64  \n",
      " 13  weekday         2767 non-null   int64  \n",
      " 14  quarter         2767 non-null   int64  \n",
      " 15  is_month_start  2767 non-null   bool   \n",
      " 16  is_month_end    2767 non-null   bool   \n",
      "dtypes: bool(2), float64(6), int64(7), object(2)\n",
      "memory usage: 351.3+ KB\n",
      "None\n"
     ]
    },
    {
     "name": "stderr",
     "output_type": "stream",
     "text": [
      "C:\\Users\\rvara\\anaconda3\\envs\\PythonAdv\\lib\\site-packages\\ipykernel_launcher.py:8: FutureWarning: weekofyear and week have been deprecated, please use DatetimeIndex.isocalendar().week instead, which returns a Series.  To exactly reproduce the behavior of week and weekofyear and return an Index, you may call pd.Int64Index(idx.isocalendar().week)\n",
      "  \n"
     ]
    }
   ],
   "source": [
    "import datetime\n",
    "df['Date'] = pd.to_datetime(df['Date'])\n",
    "df['Date'] = df['Date'].dt.strftime('%d.%m.%Y')\n",
    "df['year'] = pd.DatetimeIndex(df['Date']).year\n",
    "df['month'] = pd.DatetimeIndex(df['Date']).month\n",
    "df['day'] = pd.DatetimeIndex(df['Date']).day\n",
    "df['dayofyear'] = pd.DatetimeIndex(df['Date']).dayofyear\n",
    "df['weekofyear'] = pd.DatetimeIndex(df['Date']).weekofyear\n",
    "df['weekday'] = pd.DatetimeIndex(df['Date']).weekday\n",
    "df['quarter'] = pd.DatetimeIndex(df['Date']).quarter\n",
    "df['is_month_start'] = pd.DatetimeIndex(df['Date']).is_month_start\n",
    "df['is_month_end'] = pd.DatetimeIndex(df['Date']).is_month_end\n",
    "print(df.info())"
   ]
  },
  {
   "cell_type": "code",
   "execution_count": 4,
   "id": "enhanced-genesis",
   "metadata": {},
   "outputs": [],
   "source": [
    "df = df.drop(['Date'], axis = 1) "
   ]
  },
  {
   "cell_type": "code",
   "execution_count": 5,
   "id": "mobile-franchise",
   "metadata": {},
   "outputs": [
    {
     "name": "stdout",
     "output_type": "stream",
     "text": [
      "<class 'pandas.core.frame.DataFrame'>\n",
      "Int64Index: 2767 entries, 0 to 2767\n",
      "Data columns (total 42 columns):\n",
      " #   Column        Non-Null Count  Dtype  \n",
      "---  ------        --------------  -----  \n",
      " 0   Open          2767 non-null   float64\n",
      " 1   High          2767 non-null   float64\n",
      " 2   Low           2767 non-null   float64\n",
      " 3   Close         2767 non-null   float64\n",
      " 4   Adj Close     2767 non-null   float64\n",
      " 5   Volume        2767 non-null   float64\n",
      " 6   Class         2767 non-null   object \n",
      " 7   day           2767 non-null   int64  \n",
      " 8   dayofyear     2767 non-null   int64  \n",
      " 9   weekofyear    2767 non-null   int64  \n",
      " 10  year_2010     2767 non-null   uint8  \n",
      " 11  year_2011     2767 non-null   uint8  \n",
      " 12  year_2012     2767 non-null   uint8  \n",
      " 13  year_2013     2767 non-null   uint8  \n",
      " 14  year_2014     2767 non-null   uint8  \n",
      " 15  year_2015     2767 non-null   uint8  \n",
      " 16  year_2016     2767 non-null   uint8  \n",
      " 17  year_2017     2767 non-null   uint8  \n",
      " 18  year_2018     2767 non-null   uint8  \n",
      " 19  year_2019     2767 non-null   uint8  \n",
      " 20  month_2       2767 non-null   uint8  \n",
      " 21  month_3       2767 non-null   uint8  \n",
      " 22  month_4       2767 non-null   uint8  \n",
      " 23  month_5       2767 non-null   uint8  \n",
      " 24  month_6       2767 non-null   uint8  \n",
      " 25  month_7       2767 non-null   uint8  \n",
      " 26  month_8       2767 non-null   uint8  \n",
      " 27  month_9       2767 non-null   uint8  \n",
      " 28  month_10      2767 non-null   uint8  \n",
      " 29  month_11      2767 non-null   uint8  \n",
      " 30  month_12      2767 non-null   uint8  \n",
      " 31  wday_1        2767 non-null   uint8  \n",
      " 32  wday_2        2767 non-null   uint8  \n",
      " 33  wday_3        2767 non-null   uint8  \n",
      " 34  wday_4        2767 non-null   uint8  \n",
      " 35  wday_5        2767 non-null   uint8  \n",
      " 36  wday_6        2767 non-null   uint8  \n",
      " 37  qrtr_2        2767 non-null   uint8  \n",
      " 38  qrtr_3        2767 non-null   uint8  \n",
      " 39  qrtr_4        2767 non-null   uint8  \n",
      " 40  m_start_True  2767 non-null   uint8  \n",
      " 41  m_end_True    2767 non-null   uint8  \n",
      "dtypes: float64(6), int64(3), object(1), uint8(32)\n",
      "memory usage: 324.3+ KB\n"
     ]
    }
   ],
   "source": [
    "df = pd.get_dummies(df, columns=['year'], drop_first=True, prefix='year')\n",
    "\n",
    "df = pd.get_dummies(df, columns=['month'], drop_first=True, prefix='month')\n",
    "\n",
    "df = pd.get_dummies(df, columns=['weekday'], drop_first=True, prefix='wday')\n",
    "df = pd.get_dummies(df, columns=['quarter'], drop_first=True, prefix='qrtr')\n",
    "\n",
    "df = pd.get_dummies(df, columns=['is_month_start'], drop_first=True, prefix='m_start')\n",
    "\n",
    "df = pd.get_dummies(df, columns=['is_month_end'], drop_first=True, prefix='m_end')\n",
    "\n",
    "df.info()"
   ]
  },
  {
   "cell_type": "code",
   "execution_count": 6,
   "id": "warming-breakdown",
   "metadata": {},
   "outputs": [
    {
     "name": "stdout",
     "output_type": "stream",
     "text": [
      "(2515, 42)\n",
      "(252, 42)\n"
     ]
    }
   ],
   "source": [
    "train = df[df[\"Class\"] == \"Train\"] \n",
    "test = df[df[\"Class\"] == \"Test\"] \n",
    "\n",
    "print(train.shape)\n",
    "print(test.shape)"
   ]
  },
  {
   "cell_type": "code",
   "execution_count": 7,
   "id": "placed-batch",
   "metadata": {},
   "outputs": [],
   "source": [
    "train = train.drop(['Class'], axis = 1) \n",
    "test = test.drop(['Class'], axis = 1) "
   ]
  },
  {
   "cell_type": "code",
   "execution_count": 8,
   "id": "aware-bridge",
   "metadata": {
    "scrolled": true
   },
   "outputs": [
    {
     "name": "stdout",
     "output_type": "stream",
     "text": [
      "(2515, 40)\n",
      "(2515, 1)\n"
     ]
    }
   ],
   "source": [
    "target_column_train = ['Close'] \n",
    "predictors_train = list(set(list(train.columns))-set(target_column_train))\n",
    "\n",
    "X_train = train[predictors_train].values\n",
    "y_train = train[target_column_train].values\n",
    "\n",
    "print(X_train.shape)\n",
    "print(y_train.shape)"
   ]
  },
  {
   "cell_type": "code",
   "execution_count": 9,
   "id": "lasting-dover",
   "metadata": {},
   "outputs": [
    {
     "name": "stdout",
     "output_type": "stream",
     "text": [
      "(252, 40)\n",
      "(252, 1)\n"
     ]
    }
   ],
   "source": [
    "target_column_test = ['Close'] \n",
    "predictors_test = list(set(list(test.columns))-set(target_column_test))\n",
    "\n",
    "X_test = test[predictors_test].values\n",
    "y_test = test[target_column_test].values\n",
    "\n",
    "print(X_test.shape)\n",
    "print(y_test.shape)"
   ]
  },
  {
   "cell_type": "code",
   "execution_count": 10,
   "id": "computational-casino",
   "metadata": {},
   "outputs": [],
   "source": [
    "#depending on the env. pip install sklearn"
   ]
  },
  {
   "cell_type": "code",
   "execution_count": 11,
   "id": "paperback-inspection",
   "metadata": {},
   "outputs": [],
   "source": [
    "# CART Model: Classification and regression tree model"
   ]
  },
  {
   "cell_type": "code",
   "execution_count": 12,
   "id": "willing-necessity",
   "metadata": {},
   "outputs": [],
   "source": [
    "import sklearn\n",
    "from sklearn import model_selection\n",
    "from sklearn.tree import DecisionTreeRegressor\n",
    "from sklearn.ensemble import RandomForestRegressor\n",
    "from sklearn.metrics import r2_score\n",
    "from sklearn.metrics import mean_squared_error\n",
    "from math import sqrt"
   ]
  },
  {
   "cell_type": "code",
   "execution_count": 13,
   "id": "herbal-wilderness",
   "metadata": {},
   "outputs": [
    {
     "data": {
      "text/plain": [
       "DecisionTreeRegressor(max_depth=20, random_state=10)"
      ]
     },
     "execution_count": 13,
     "metadata": {},
     "output_type": "execute_result"
    }
   ],
   "source": [
    "dtree = DecisionTreeRegressor(max_depth=20, min_samples_leaf=1, random_state=10)\n",
    "dtree.fit(X_train, y_train)"
   ]
  },
  {
   "cell_type": "code",
   "execution_count": 14,
   "id": "extensive-aquatic",
   "metadata": {},
   "outputs": [
    {
     "name": "stdout",
     "output_type": "stream",
     "text": [
      "0.0\n",
      "1.0\n",
      "379.76053340379735\n",
      "-0.02866696457477369\n"
     ]
    }
   ],
   "source": [
    "# Code lines 1 to 3\n",
    "pred_train_tree= dtree.predict(X_train)\n",
    "print(np.sqrt(mean_squared_error(y_train,pred_train_tree)))\n",
    "print(r2_score(y_train, pred_train_tree))\n",
    "\n",
    "# Code lines 4 to 6\n",
    "pred_test_tree= dtree.predict(X_test)\n",
    "print(np.sqrt(mean_squared_error(y_test,pred_test_tree))) \n",
    "print(r2_score(y_test, pred_test_tree))"
   ]
  },
  {
   "cell_type": "code",
   "execution_count": 15,
   "id": "noticed-satin",
   "metadata": {},
   "outputs": [
    {
     "data": {
      "text/plain": [
       "DecisionTreeRegressor(max_depth=25)"
      ]
     },
     "execution_count": 15,
     "metadata": {},
     "output_type": "execute_result"
    }
   ],
   "source": [
    "dtree1 = DecisionTreeRegressor(max_depth=2)\n",
    "dtree2 = DecisionTreeRegressor(max_depth=8)\n",
    "dtree3 = DecisionTreeRegressor(max_depth=100)\n",
    "dtree4 = DecisionTreeRegressor(max_depth=25)\n",
    "dtree1.fit(X_train, y_train)\n",
    "dtree2.fit(X_train, y_train)\n",
    "dtree3.fit(X_train, y_train)\n",
    "dtree4.fit(X_train, y_train)"
   ]
  },
  {
   "cell_type": "code",
   "execution_count": 16,
   "id": "generous-formation",
   "metadata": {},
   "outputs": [],
   "source": [
    "# # Code Lines 1 to 4: Fit the regression tree 'dtree1' and 'dtree2' \n",
    "# dtree1 = DecisionTreeRegressor(max_depth=2)\n",
    "# dtree2 = DecisionTreeRegressor(max_depth=5)\n",
    "# dtree1.fit(X_train, y_train)\n",
    "# dtree2.fit(X_train, y_train)\n",
    "\n",
    "# # Code Lines 5 to 6: Predict on training data\n",
    "# tr1 = dtree1.predict(X_train)\n",
    "# tr2 = dtree2.predict(X_train) \n",
    "\n",
    "# #Code Lines 7 to 8: Predict on testing data\n",
    "# y1 = dtree1.predict(X_test)\n",
    "# y2 = dtree2.predict(X_test)"
   ]
  },
  {
   "cell_type": "code",
   "execution_count": 17,
   "id": "effective-seventh",
   "metadata": {},
   "outputs": [],
   "source": [
    "tr1 = dtree1.predict(X_train)\n",
    "tr2 = dtree2.predict(X_train)\n",
    "tr3 = dtree3.predict(X_train)\n",
    "tr4 = dtree3.predict(X_train)\n",
    "\n",
    "y1 = dtree1.predict(X_test)\n",
    "y2 = dtree2.predict(X_test)\n",
    "y3 = dtree3.predict(X_test)\n",
    "y4 = dtree4.predict(X_test)"
   ]
  },
  {
   "cell_type": "code",
   "execution_count": 18,
   "id": "suited-pontiac",
   "metadata": {},
   "outputs": [
    {
     "name": "stdout",
     "output_type": "stream",
     "text": [
      "244.32692363344987\n",
      "0.942369454683905\n",
      "666.4455179644643\n",
      "-2.167994642462714\n"
     ]
    }
   ],
   "source": [
    "print(np.sqrt(mean_squared_error(y_train,tr1))) \n",
    "print(r2_score(y_train, tr1))\n",
    "\n",
    "# Print RMSE and R-squared value for regression tree 'dtree1' on testing data\n",
    "print(np.sqrt(mean_squared_error(y_test,y1))) \n",
    "print(r2_score(y_test, y1))"
   ]
  },
  {
   "cell_type": "code",
   "execution_count": 19,
   "id": "small-mineral",
   "metadata": {},
   "outputs": [
    {
     "name": "stdout",
     "output_type": "stream",
     "text": [
      "4.1243629300828495\n",
      "0.9999835780840493\n",
      "382.05894096597723\n",
      "-0.041156153853834976\n"
     ]
    }
   ],
   "source": [
    "# Print RMSE and R-squared value for regression tree 'dtree2' on training data\n",
    "print(np.sqrt(mean_squared_error(y_train,tr2))) \n",
    "print(r2_score(y_train, tr2))\n",
    "\n",
    "# Print RMSE and R-squared value for regression tree 'dtree2' on testing data\n",
    "print(np.sqrt(mean_squared_error(y_test,y2))) \n",
    "print(r2_score(y_test, y2))\n"
   ]
  },
  {
   "cell_type": "code",
   "execution_count": 20,
   "id": "abandoned-proceeding",
   "metadata": {},
   "outputs": [
    {
     "name": "stdout",
     "output_type": "stream",
     "text": [
      "0.0\n",
      "1.0\n",
      "380.3895030880824\n",
      "-0.03207719849182644\n"
     ]
    }
   ],
   "source": [
    "# Print RMSE and R-squared value for regression tree 'dtree3' on training data\n",
    "print(np.sqrt(mean_squared_error(y_train,tr3))) \n",
    "print(r2_score(y_train, tr3))\n",
    "\n",
    "# Print RMSE and R-squared value for regression tree 'dtree3' on testing data\n",
    "print(np.sqrt(mean_squared_error(y_test,y3))) \n",
    "print(r2_score(y_test, y3))"
   ]
  },
  {
   "cell_type": "code",
   "execution_count": 21,
   "id": "similar-palmer",
   "metadata": {},
   "outputs": [
    {
     "name": "stdout",
     "output_type": "stream",
     "text": [
      "0.0\n",
      "1.0\n",
      "379.1215070533275\n",
      "-0.025207983568967363\n"
     ]
    }
   ],
   "source": [
    "# Print RMSE and R-squared value for regression tree 'dtree4' on training data\n",
    "print(np.sqrt(mean_squared_error(y_train,tr4))) \n",
    "print(r2_score(y_train, tr4))\n",
    "\n",
    "# Print RMSE and R-squared value for regression tree 'dtree4' on testing data\n",
    "print(np.sqrt(mean_squared_error(y_test,y4))) \n",
    "print(r2_score(y_test, y4))"
   ]
  },
  {
   "cell_type": "code",
   "execution_count": 22,
   "id": "institutional-guatemala",
   "metadata": {},
   "outputs": [
    {
     "name": "stderr",
     "output_type": "stream",
     "text": [
      "C:\\Users\\rvara\\anaconda3\\envs\\PythonAdv\\lib\\site-packages\\ipykernel_launcher.py:3: DataConversionWarning: A column-vector y was passed when a 1d array was expected. Please change the shape of y to (n_samples,), for example using ravel().\n",
      "  This is separate from the ipykernel package so we can avoid doing imports until\n"
     ]
    },
    {
     "name": "stdout",
     "output_type": "stream",
     "text": [
      "1.1323711110934715\n",
      "0.9999987620940857\n",
      "383.47110950708196\n",
      "-0.048867033262709025\n"
     ]
    }
   ],
   "source": [
    "#RF model\n",
    "model_rf = RandomForestRegressor(n_estimators=5000, oob_score=True, random_state=100)\n",
    "model_rf.fit(X_train, y_train) \n",
    "pred_train_rf= model_rf.predict(X_train)\n",
    "print(np.sqrt(mean_squared_error(y_train,pred_train_rf)))\n",
    "print(r2_score(y_train, pred_train_rf))\n",
    "\n",
    "pred_test_rf = model_rf.predict(X_test)\n",
    "print(np.sqrt(mean_squared_error(y_test,pred_test_rf)))\n",
    "print(r2_score(y_test, pred_test_rf))"
   ]
  },
  {
   "cell_type": "code",
   "execution_count": null,
   "id": "finnish-arrest",
   "metadata": {},
   "outputs": [],
   "source": []
  }
 ],
 "metadata": {
  "kernelspec": {
   "display_name": "Python [conda env:PythonAdv] *",
   "language": "python",
   "name": "conda-env-PythonAdv-py"
  },
  "language_info": {
   "codemirror_mode": {
    "name": "ipython",
    "version": 3
   },
   "file_extension": ".py",
   "mimetype": "text/x-python",
   "name": "python",
   "nbconvert_exporter": "python",
   "pygments_lexer": "ipython3",
   "version": "3.6.12"
  }
 },
 "nbformat": 4,
 "nbformat_minor": 5
}
